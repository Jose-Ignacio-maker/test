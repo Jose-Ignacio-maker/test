import os
import tarfile
import urllib.request

DOWNLOAD_ROOT = "https://github.com/ageron/handson-ml2/raw/master/"
HOUSING_PATH = os.path.join("/home/ljavier/ml/datasets", "housing")
HOUSING_URL = DOWNLOAD_ROOT + "datasets/housing/housing.tgz"

#
## Esta función crea una carpeta local y descarga en ella el archivo de datos ubicado en una dirección remota, 
# descomprimiendolo (en este caso en formato tar)
#

def fetch_housing_data(housing_url=HOUSING_URL, housing_path=HOUSING_PATH):
    os.makedirs(housing_path, exist_ok=True) #Crear un directorio
    tgz_path = os.path.join(housing_path, "housing.tgz")# Agrega al path "housing.tgz" y lo pone en el nuevo path tgz_path
    urllib.request.urlretrieve(housing_url, tgz_path) # Descarga desde housing_url y lo coloca en el path de tgz_path
    housing_tgz = tarfile.open(tgz_path) # Accede y abre la carpeta en la ruta tgz_path para descomprimirlo
    housing_tgz.extractall(path=housing_path) # Extrae los datos desde el tar
    housing_tgz.close() # Cierra el acceso
# Call the function to fetch the data    
fetch_housing_data()





import pandas as pd

#
##Esta función de python carga la data que esta en una carpeta local, en un archivo .csv y lo colca en un DataFrame de pandas
#

def load_housing_data(housing_path=HOUSING_PATH):
    csv_path = os.path.join(housing_path, "housing.csv")
    return pd.read_csv(csv_path)





# Call the function to fetch the data    
load_housing_data()





housing = load_housing_data() # Guardamos la data en la variable housing
housing.head() # Método del DataFrame de pandas que permite ver las cinco filas superiores





housing.tail()



housing = load_housing_data()
housing.info() # Método del DataFrame de pandas que permite ver una descripción rápida de los datos





# Se puede ver que todos los atributos son númericos, excepto el atributo ocean_proximity, 
# que es de tipo object (puede ser cualquier tipo objeto de Python, pero como lo cargamos desde un csv, podemos 
# inferir que es texto, probablemente un atributo categorico)Un atributo categorico es aquel atributo de texto repetitivo que suele
# representar categorías. 

# Podemos averiguar cuantas categorías existen y cuantos datos tienen asociados (en este caso cuantos distritos con value.counts())

housing["ocean_proximity"].value_counts()






# El método describe del Dataframe de pandas muestra un resumen de los atributos númericos
# count : cantidad de registros
# mean : media
# min y max : Registros mínimos y máximos
# std : desviación standart : Cuán dispersos están los valores
# 25 %, 50 % y 75% : percentiles o cuartiles (Un percentil indica el valor por debajo del cual queda un procentaje de observaciones 
# dado en un  grupo de observaciones)
# Por ejemplo: el 25% de los distritos tienen la variable housing_median_age inferior a 18, mientras que el 50% están por debajo de 29 
# y el 75% están por debajo de 37 (primer cuartil, media y tercer cuartil)

housing.describe()







# Esta línea (%matplotlib inline ) es un comando mágico de jupyter que instruye a jupyter para que configure matplotlib para que utilice 
# el propio back_end de jupyter para dibujar en la pantalla. El método show() aquí es opcional.

%matplotlib inline 

import matplotlib.pyplot as plt

housing.hist(bins=50, figsize=(20,15))# El método hist() del dataframe de pandas generará los histogramas
plt.show()
