# Tipos de datos numéricos
print("Tipos de datos numéricos:")
entero = 10
print(f"Entero: {entero}, Tipo: {type(entero)}")

flotante = 3.14
print(f"Flotante: {flotante}, Tipo: {type(flotante)}")

complejo = 2 + 3j
print(f"Complejo: {complejo}, Tipo: {type(complejo)}")


# Tipo de dato booleano
print("\nTipo de dato booleano:")
booleano = True
print(f"Booleano: {booleano}, Tipo: {type(booleano)}")


# Tipos de datos de secuencia
print("\nTipos de datos de secuencia:")

cadena = "Hola, mundo!"
print(f"Cadena: {cadena}, Tipo: {type(cadena)}")

lista = [1, 2, 3, "a", "b"]
print(f"Lista: {lista}, Tipo: {type(lista)}")

tupla = (4, 5, 6)
print(f"Tupla: {tupla}, Tipo: {type(tupla)}")

rango = range(5)
print(f"Rango: {list(rango)}, Tipo: {type(rango)}") # Convertimos a lista para ver los elementos


# Tipo de dato de mapeo
print("\nTipo de dato de mapeo:")
diccionario = {"nombre": "Juan", "edad": 30}
print(f"Diccionario: {diccionario}, Tipo: {type(diccionario)}")


# Tipo de dato de conjunto
print("\nTipo de dato de conjunto:")
conjunto = {1, 2, 3}
print(f"Conjunto: {conjunto}, Tipo: {type(conjunto)}")


# Tipo de dato binario
print("\nTipo de dato binario:")
bytes_data = b"Hola" # Tipo bytes
print(f"Bytes: {bytes_data}, Tipo: {type(bytes_data)}")

bytearray_data = bytearray(b"mundo") # Tipo bytearray
print(f"Bytearray: {bytearray_data}, Tipo: {type(bytearray_data)}")

memoryview_data = memoryview(bytes(5)) # Tipo memoryview
print(f"Memoryview: {memoryview_data}, Tipo: {type(memoryview_data)}")

#Tipo NoneType
print("\nTipo de dato NoneType:")

none_variable = None
print(f"None: {none_variable}, Tipo: {type(none_variable)}")
