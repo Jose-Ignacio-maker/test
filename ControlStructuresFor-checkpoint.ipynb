# Sintaxis
"""
#Sintaxis del ciclo for
for i = from 0 to 10
    statement or statements   
"""


#Ejemplo 1

#Loop over a set of values in a range
print('Print out values in a range')
for i in range(0, 10):
 print(i, ' ', end= ' ')
 print()
print('Done')



#Ejemplo 2
# Now use values in a range but increment by 2
print('Print out values in a range with an increment of 2')
for i in range(0, 10, 2):
 print(i, ' ', end='')
 print()
print('Done')



#Ejemplo 3
#Now use an 'anonymous' loop variable
for _ in range(0,10):
 print('.', end='')
print()



#Ejemplo 4
print('Only print code if all iterations completed')
num = int(input('Enter a number to check for: '))
for i in range(0, 6):
    if i == num:
        break
    print(i, ' ', end='')
print('Done')



#Ejemplo 5

for i in range(0, 10):
 print("Este es un número ", i)
 if i % 2 == 1:
  continue
 print('hey its an even number')
 print('we love even numbers')
print('Done')



#Ejemplo 6

# Only print code if all iterations completed over a list
print('Only print code if all iterations completed')
num = int(input('Enter a number to check for: '))
for i in range(0, 6):
 if i == num:
  break
 print(i, ' ', end='')
else:
 print()
 print('All iterations successful')




#Ejemplo 7

count = 0
print('Starting')
while count < 10:
    print(count, ' ', end='') # part of the while loop
    count += 1 # also part of the while loop
print() # not part of the while loop
print('Done')





#Ejemplo 8

#Rolling the dices
import random
MIN = 1
MAX = 6
roll_again = 'y'
while roll_again == 'y':
 print('Rolling the dices...')
 print('The values are....')
 dice1 = random.randint(MIN, MAX)
 print(dice1)
 dice2 = random.randint(MIN, MAX)
 print(dice2)
 roll_again = input('Roll the dices again? (y / n): ')





#Práctica I

""" 
##
#Calcule el total adeudado cuando se compran varios artículos. El 
#monto a pagar por transacciones en efectivo se redondea al níquel más 
#cercano porque los centavos se han ido eliminando gradualmente en 
#Canadá. Considere que 5 centavos son un nickel y que un nickel tiene un valor de 0.05
#

"""
#Algoritmo:
#Rastrear el total de todos los artículos
#Leer el precio de los primeros artículos como una cadena.
#Continuar leyendo elementos hasta ingresar una línea en blanco
#Agregue el costo del artículo al total (después de convertirlo en flotante)
#Lea el costo del siguiente artículo.
#Mostrar el total exacto a pagar
#Calcule la cantidad de centavos que quedarían si se pagara el total
#solo usando monedas de cinco centavos
#Si el número de centavos que quedan es inferior a 2,5, redondeamos hacia abajo
#restando esa cantidad de centavos del total
#De lo contrario, sumamos una moneda de cinco centavos y luego restamos la cantidad de centavos.
#Mostrar el monto en efectivo a pagar

PENNIES_PER_NICKEL = 5 #centavos por nickel
NICKEL = 0.05 #un nickel

# track the total of all the items

total = 0.00

#Read the price of the first items as a string
line = input("Enter the price of the item (blank to quit): ")
print(type(line))
#Continue reading items until a blank line is entered
while line != "":
 #Add the cost of the item to the total (after converting it to float)
 total = total + float(line)
 #Read the cost of the next item
 line  = input("Enter the price of the item (blank to quit): ")

#Display the exact total payable
print("The exact amount payable is %.02f" % total)
#print("en nickels",total/5)
#print("en pennies",total/0.05)
#Compute the number of pennies that would be left if the total was paid
#only using nickels
rounding_indicator = total * 100 % PENNIES_PER_NICKEL
print(rounding_indicator)
if rounding_indicator < PENNIES_PER_NICKEL / 2:
 #If the number of pennies left is less than 2.5 then we round down by
 #subtracting that number of pennies from the total
 cash_total = total - rounding_indicator / 100
else:
 #Otherwise we add a nickel and then subtract the number of pennies
 cash_total = total + NICKEL - rounding_indicator / 100
#Display the cash amount payable
print("The cash amount payable is %.02f" % cash_total)




#Práctica II

#Compute the factorial
number = input('Please input the number:')

if number.isnumeric():
    num = int(number)

    if num == 0:
        # Termination criteria
        print('0! factorial is 1')
    else:
        # Looping element
        factorial = 1
        for i in range(1, num + 1):
            factorial = factorial * i
        print(number + '! factorial is', str(factorial))

else:
    print('Not an integer number')





#Práctica III

# Determine if a number is a prime number

number = input('Please input the final number for a range:')
if number.isnumeric():

    num = int(number)

    if num <= 2:
        print('Number must be greater than 2')
    else:
        # Assume a number is a prime number until proved otherwise
        prime_number = True
        for i in range(2, num):
            for j in range(2, i):
                # If there is no remainder then its not a prime number
                if i % j == 0:
                    prime_number = False
                    break
            if prime_number:
                print('Prime number', i)
            prime_number = True

else:
    print('Must be a positive integer')






# Match case
day = input("Enter the day of the week: ").capitalize()
# Match the day to predefined patterns
match day:
    case "Saturday" | "Sunday":
        print(f"{day} is a weekend.")
    case "Monday" | "Tuesday" | "Wednesday" | "Tursday" | "Friday" :
        print(f"{day} is a weekday.")
    case _:
        print(" That is not valid day of the week. ") # Default case
