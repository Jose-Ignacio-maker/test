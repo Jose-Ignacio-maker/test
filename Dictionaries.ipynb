"""
TEORÍA MATEMÁTICA asociada al ejercicio
La teoría matemática detrás de este ejercicio está relacionada con la **noción de funciones y relaciones** en matemáticas discretas.

Conceptos matemáticos clave
1. **DICCIONARIO = FUNCIÓN**
   Un diccionario en Python es esencialmente una **función matemática**  que asigna a cada elemento de un conjunto de claves
     un único valor en .
   - Ejemplo:
     

     Matemáticamente, esto significa que  y .

2. CONJUNTOS Y PARES ORDENADOS
   En el ejercicio, se crean diccionarios a partir de diferentes estructuras:
   - Un **diccionario existente** equivale a una función ya definida.
   - Una **lista de tuplas** representa una relación  entre dos conjuntos  y :
     

   - Una **tupla de listas** también define una función, pero escrita de otra manera.

3. **PROPIEDAD DE UNICIDAD**
   En matemáticas, una función no puede asignar **dos valores diferentes** a la misma clave. Python respeta esta propiedad:
   ```python
   dict([('b',3), ('b',4)])  # Se queda solo con ('b', 4)
   ```
   Esto ocurre porque en una función , si  y , habría una contradicción.
--Conclusión:
Un diccionario en Python representa una función matemática:
   - El conjunto de claves es el dominio ().
   - Los valores son la imagen ().
   - Se pueden definir funciones con listas de pares ordenados.
   - No pueden existir claves repetidas con valores distintos.

Básicamente, este ejercicio en Python ilustra cómo las funciones y relaciones de matemáticas discretas se representan en
estructuras de datos computacionales.

"""

# Ejemplo_1: Sobrecarga del constructor de diccionarios:

dict1 = dict({'a': 1, 'b': 2})
print('dict1: ', dict1)
dict2 = dict([('b',3),('c',4),('d',5)])
print('dict2: ', dict2)
dict3 = dict((['uk','Londres'],['ireland','Dublín'],['france','París']))
print(dict3)







# Ejemplo_1: Sobrecarga del constructor de diccionarios:

dict1 = dict({'a': 1, 'b': 2}) # Creación de un diccionario a partir de otro diccionario
print('dict1: ', dict1)
dict2 = dict([('b',3),('c',4),('d',5)]) # Creación de un diccionario a partir de una lista de tuplas
print('dict2: ', dict2)
dict3 = dict((['uk','Londres'],['ireland','Dublín'],['france','París'])) # Creación de un diccionario a partir de una tupla de listas
print(dict3)


# Eliminar entradas de un diccionario con los métodos pop(), popitem() o la palabra clave del()

# Usando pop()
print("\nUsando pop():")
valor_eliminado = dict1.pop('a')  # Elimina la entrada con la clave 'a' y devuelve su valor
print("Valor eliminado:", valor_eliminado)
print("Diccionario después de pop():", dict1)


# Usando popitem()
print("\nUsando popitem():")
clave_valor_eliminado = dict2.popitem()  # Elimina el último par clave-valor insertado y lo devuelve
print("Clave y valor eliminados:", clave_valor_eliminado)
print("Diccionario después de popitem():", dict2)


# Usando del()
print("\nUsando del():")
if 'b' in dict2:
  del dict2['b']  # Elimina la entrada con la clave 'b'
  print("Diccionario después de del():", dict2)
else:
  print("La clave 'b' no existe en el diccionario.")









# Ejemplo 2: Iterar un diccionario sobre las claves y sobre los valores, utilizando también el método values

# Iterar sobre las claves de un diccionario
dict1 = {'a': 1, 'b': 2, 'c': 3}
for key in dict1:
    print(key)

# Iterar sobre los valores de un diccionario utilizando el método values()
for value in dict1.values():
    print(value)

# Iterar sobre los pares clave-valor de un diccionario utilizando items()
for key, value in dict1.items():
    print(key, value)









""" TEORíA MATEMÁTICA ASOCIADA AL EJERCICIO
La teoría matemática detrás se basa en probabilidades discretas y combinatoria.

Conceptos matemáticos clave
1️ESPACIO MUESTRAL
Cada dado tiene 6 caras, por lo que el número total de combinaciones al lanzar dos dados es:

6
×
6
=
36
6×6=36
El espacio muestral es el conjunto de todos los posibles resultados
(
𝑑
1
,
𝑑
2
)
(d1,d2), donde
𝑑
1
d1 y
𝑑
2
d2 son valores entre 1 y 6.

DISTRIBUCIÓN DE PROBABILIDAD
El resultado del lanzamiento de dos dados es la suma de ambos valores. Como hay más formas de obtener ciertos valores que otros, las probabilidades no son uniformes.
Ejemplo:

Solo hay 1 manera de obtener un 2:

¡Por supuesto! Vamos a analizar por qué **solo hay una manera de obtener un 2** al lanzar dos dados.

Espacio muestral
Cuando tiramos dos dados de 6 caras, cada dado puede caer en un número entre 1 y 6.
Si representamos el resultado como un par ordenado ( (d1, d2) ), donde:
- ( d1 ) es el resultado del primer dado.
- ( d2 ) es el resultado del segundo dado.

Entonces, el total de combinaciones posibles es:
[
(1,1), (1,2), (1,3), ..., (6,6)
]
Esto da un total de 6 × 6 = 36 combinaciones.

---

¿Cómo se obtiene la suma 2?
Para obtener un 2, la única posibilidad es:
[
(1,1)
]
Es decir, ambos dados deben caer en 1.

Como hay solo una forma de obtener este resultado dentro de las 36 combinaciones posibles, la probabilidad de obtener un 2 es:
[
P(2) = \frac{1}{36} \approx 2.78\%
]

---

Comparación con otras sumas
Veamos cuántas formas hay de obtener otras sumas:
- Suma 3:  → 2 maneras.
- Suma 4:  → 3 maneras.
- Suma 7:**  → 6 maneras (la más probable).

Como puedes ver, las sumas que pueden formarse de más maneras tienen mayor probabilidad de ocurrir.

---

Solo hay 1 manera de obtener un 2: ( (1,1) ), porque es la única combinación de dos números entre 1 y 6 que suma 2.
Esto hace que la probabilidad de obtener un 2 sea la más baja entre todas las sumas posibles.
La probabilidad de cada suma está predefinida en el diccionario esperado.
 LEY DE LOS GRANDES NÚMEROS
Este código simula
1000
1000 tiros y compara la frecuencia obtenida con la probabilidad teórica.

A medida que aumentamos el número de tiros, las frecuencias observadas deberían aproximarse a las probabilidades teóricas.
Es un caso práctico de la Ley de los Grandes Números en estadística.


"""





### Simulación de dos dados

##
# Simular tirar los muchas veces y comparar los resultados simulados a los resultados esperados
# por la teoría de probabilidad
#
## @param num_tiros Número de veces que se tirarán los dados
## @return Lista con la frecuencia de cada resultado

from random import randrange

NUM_TIROS = 1000
D_MAX = 6

## Simular el lanzamiento de dos dados
## @return La suma de los dos dados

def lanzar_dados():
    d1 = randrange(1, D_MAX + 1)
    d2 = randrange(1, D_MAX + 1)
    return d1 + d2

## Simular el lanzamiento de dos dados muchas veces

def main():
    # Crear un diccionario para almacenar las proporciones esperadas
    esperado = {2: 1/36, 3: 2/36, 4: 3/36, 5: 4/36, 6: 5/36, 7: 6/36, 8: 5/36, 9: 4/36, 10: 3/36, 11: 2/36, 12: 1/36}
    # Crear un diccionario que asigne del total de tiros al número de ocurrencias
    ocurrencias = {2: 0, 3: 0, 4: 0, 5: 0, 6: 0, 7: 0, 8: 0, 9: 0, 10: 0, 11: 0, 12: 0}
# Simular los tiros y contar las ocurrencias
    for i in range(NUM_TIROS):
        suma = lanzar_dados()
        ocurrencias[suma] = ocurrencias[suma] + 1

    # Imprimir las proporciones simuladas y las proporciones esperadas
    print("Total \tSimulada\tEsperada")
    print("           Porciento\tPorciento")
    for i in sorted(ocurrencias.keys()):
        print("%5d %11.2f %8.2f" % (i, ocurrencias[i] / NUM_TIROS * 100, esperado[i] * 100))
        #print(str(i) + "\t" + str(ocurrencias[i] / NUM_TIROS * 100) + "\t" + str(esperado[i] * 100))
   #Llamar a la función principal
if __name__ == '__main__':
    main()  # Ejecutar la función principal












##
# Realice una búsqueda inversa en un diccionario y encuentre todas las claves que se asignan al valor proporcionado
#
## @param diccionario Diccionario en el que se realizará la búsqueda
## @param valor Valor que se buscará en el diccionario
## @return Lista con las claves que se asignan al valor proporcionado

def busqueda_inversa(diccionario, valor):
    claves = []
    for clave in diccionario:
        print("clave", clave)
        if diccionario[clave] == valor:
            claves.append(clave)
    return claves

def main():
    # Un diccionario asignando 4 palabras en francés aa sus traducciones en español
    diccionario = {'hola': 'salut',
                   'adiós': 'au revoir',
                   'gracias': 'merci',
                   'perdón': 'pardon, excusez-moi',
                   'libro': 'livre'}
    # Demostrar la búsqueda inversa con tres casos diferentes: uno retornando multiples claves,
    # uno retornando una sola clave y uno retornando ninguna clave
    print("La palabra francesa para 'gracias' es:", busqueda_inversa(diccionario, 'perdón'))
    print("Se espera: ['perdón', 'excusez-moi']")
    print()
    print("La palabra francesa para 'adiós' es:", busqueda_inversa(diccionario, 'au revoir'))
    print("Se espera: ['adiós']")
    print()
    print("La palabra francesa para 'que es esto?' es:", busqueda_inversa(diccionario, 'que es esto?'))
    print("Se espera: []")
    print()

if __name__ == '__main__':
    main()  # Ejecutar la función principal












##
# Compute the number of unique characters in a string using a dictionary.
#

# Read the string for the user
s = input("Enter a string: ")

# Add each character to a diccionary with a value of True. Once we are donde the number of keys in the dictionary will be the number of unique characters in the string.

characters = {}
for c in s:
    characters[c] = True
# Display the result
print("That string contained:", len(characters), "unique characters(s)") ## The len function returns the key numbers in a dictionary.








"""ANAGRAMS"""

##
# Determine whether or not two srings are anagrams and report the result
#

## Compute the frequency distribution for the characters in a string
## @param s the string to process
## return a dictionary mapping each character to its count
def charactersCounts(s):
  #Create a new, empty dictionary
  counts = {}
  #Update the count for each character
  for c in s:
    if c in counts:
      counts[c] += 1
    else:
      counts[c] = 1
  return counts

# Determine if two strings entered by the user are anagrams
def main():
  # Read the string from the user
  s1 = input("Enter the first string: ")
  s2 = input("Enter the second string: ")

  # Determine if the strings are anagrams
  if charactersCounts(s1) == charactersCounts(s2):
    print("Those strings are anagrams")
  else:
    print("Those strings are not anagrams")

# Call the main function
main()









""" SCRABBLE """

##
# Use a dictionary to compute the Scrabble score for a word
#

# Initialize the dictionary so that it maps from lethers to points:
points = {
    "A": 1, "B": 3, "C": 3, "D": 2, "E": 1, "F": 4, "G": 2, "H": 4, "I": 1, "J":2, "K":5, "L":1, "M":3, "N":1, "O":1, "P":3, "Q":10, "R":1, "S":1, "T":1, "U":1, "V":4,"W":4, "X":8, "Y":4, "Z":10
}
# Read de word from the user
word = input("Enter a word: ")

#Compute the score for th word
uppercase = word.upper()
score = 0
for ch in uppercase:
  if ch in points:
    score = score + points[ch]

# Display the result
print(word, "is worth", score, "points")










""" Create a BINGO CARD """
##
# Create and display a ramdom Bingo Card
#
from random import randrange

NUMS_PER_LETTER = 15

# Created a Bing Card with randomly generated numbers
## @return a dictionary representing the card where the keys are the strings
# "B", "I", "N", "G" and "O" and the values are the lists of
# the numbers that appear under each letter from top to bottom

def createCard():
  card = {}

  # The range of integers that can be generated for the current letter
  lower = 1
  upper = 1 + NUMS_PER_LETTER

  # For each of the five letters
  for letter in ["B", "I", "N", "G", "O"]:
    # Start with a empty list for the letter
    card[letter] = []

    # Keep generating ramdom numbers until we have 5 unique ones:
    while len(card[letter]) != 5:
      # Generate a random number
      num = randrange(lower, upper)
      #Ensure that we do not include any duplicate numbers
      if num not in card[letter]: # Changed next.num to num and added not to ensure uniqueness
        card[letter].append(num)

    # Update the range of values that will be generated for the next letter
    lower = upper + NUMS_PER_LETTER
    upper = lower + NUMS_PER_LETTER

  # Return the generated card
  return card

  # Display a bingo card with nice formatting
  ## @param card the bingo card to display
  ## @return (None)

def displayCard(card):
    # Display the headings
    print("B  I  N  G  O")

    # Display the numbers
    for i in range(5):
      for letter in ["B", "I", "N", "G", "O"]:
        print("%2d" % card[letter][i], end=" ")
      print()

def main():
    card = createCard()
    print("Here is your card:", card)
    displayCard(card)

  # Call the main function
if __name__ == "__main__":
    main()

